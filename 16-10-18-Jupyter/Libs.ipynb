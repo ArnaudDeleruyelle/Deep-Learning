{
 "cells": [
  {
   "cell_type": "markdown",
   "metadata": {},
   "source": [
    "# Prise en main des bibliothèques de Machine Learning.\n",
    "\n",
    "<br/>\n",
    "\n",
    "##### Arnaud Deleruyelle : Doctorant SIGMA - BioComputing\n",
    "##### Encadrement: John Klein (SIGMA) - Cristian Versari (BioComputing)"
   ]
  },
  {
   "cell_type": "markdown",
   "metadata": {},
   "source": [
    "## Partie 1 : Keras"
   ]
  },
  {
   "cell_type": "markdown",
   "metadata": {},
   "source": [
    "### Section 1.1: Imports"
   ]
  },
  {
   "cell_type": "code",
   "execution_count": 1,
   "metadata": {},
   "outputs": [
    {
     "name": "stderr",
     "output_type": "stream",
     "text": [
      "Using TensorFlow backend.\n"
     ]
    }
   ],
   "source": [
    "from __future__ import print_function\n",
    "\n",
    "import keras\n",
    "from keras.datasets import mnist\n",
    "from keras.models import Sequential\n",
    "from keras.layers import Dense, Dropout\n",
    "from keras.optimizers import RMSprop"
   ]
  },
  {
   "cell_type": "markdown",
   "metadata": {},
   "source": [
    "### Section 1.2: Data"
   ]
  },
  {
   "cell_type": "code",
   "execution_count": 2,
   "metadata": {},
   "outputs": [],
   "source": [
    "num_classes = 10\n",
    "\n",
    "(x_train, y_train), (x_test, y_test) = mnist.load_data()\n",
    "\n",
    "x_train = x_train.reshape(60000, 784)\n",
    "x_test = x_test.reshape(10000, 784)\n",
    "x_train = x_train.astype('float32')\n",
    "x_test = x_test.astype('float32')\n",
    "x_train /= 255\n",
    "x_test /= 255\n",
    "y_train = keras.utils.to_categorical(y_train, num_classes)\n",
    "y_test = keras.utils.to_categorical(y_test, num_classes)"
   ]
  },
  {
   "cell_type": "markdown",
   "metadata": {},
   "source": [
    "### Section 1.3: Variables Globales"
   ]
  },
  {
   "cell_type": "code",
   "execution_count": 3,
   "metadata": {},
   "outputs": [],
   "source": [
    "batch_size = 1000\n",
    "epochs = 40"
   ]
  },
  {
   "cell_type": "markdown",
   "metadata": {},
   "source": [
    "### Section 1.4: Model"
   ]
  },
  {
   "cell_type": "code",
   "execution_count": 4,
   "metadata": {},
   "outputs": [
    {
     "name": "stdout",
     "output_type": "stream",
     "text": [
      "_________________________________________________________________\n",
      "Layer (type)                 Output Shape              Param #   \n",
      "=================================================================\n",
      "dense_1 (Dense)              (None, 512)               401920    \n",
      "_________________________________________________________________\n",
      "dense_2 (Dense)              (None, 512)               262656    \n",
      "_________________________________________________________________\n",
      "dense_3 (Dense)              (None, 10)                5130      \n",
      "=================================================================\n",
      "Total params: 669,706\n",
      "Trainable params: 669,706\n",
      "Non-trainable params: 0\n",
      "_________________________________________________________________\n"
     ]
    }
   ],
   "source": [
    "model = Sequential()\n",
    "model.add(Dense(512, activation='sigmoid', input_shape=(784,)))\n",
    "#model.add(Dropout(0.2))\n",
    "model.add(Dense(512, activation='sigmoid'))\n",
    "#model.add(Dropout(0.2))\n",
    "model.add(Dense(num_classes, activation='softmax'))\n",
    "\n",
    "model.compile(loss='categorical_crossentropy',\n",
    "              optimizer=keras.optimizers.Adam(),\n",
    "              metrics=['accuracy'])\n",
    "\n",
    "\n",
    "model.summary()\n",
    "\n"
   ]
  },
  {
   "cell_type": "markdown",
   "metadata": {},
   "source": [
    "### Section 1.5: Fit"
   ]
  },
  {
   "cell_type": "code",
   "execution_count": 5,
   "metadata": {},
   "outputs": [
    {
     "name": "stdout",
     "output_type": "stream",
     "text": [
      "Train on 60000 samples, validate on 10000 samples\n",
      "Epoch 1/40\n",
      "60000/60000 [==============================] - 1s 23us/step - loss: 1.3317 - acc: 0.6408 - val_loss: 0.5447 - val_acc: 0.8575\n",
      "Epoch 2/40\n",
      "60000/60000 [==============================] - 1s 21us/step - loss: 0.4133 - acc: 0.8866 - val_loss: 0.3234 - val_acc: 0.9092\n",
      "Epoch 3/40\n",
      "60000/60000 [==============================] - 1s 22us/step - loss: 0.3047 - acc: 0.9124 - val_loss: 0.2767 - val_acc: 0.9172\n",
      "Epoch 4/40\n",
      "60000/60000 [==============================] - 1s 22us/step - loss: 0.2662 - acc: 0.9217 - val_loss: 0.2493 - val_acc: 0.9263\n",
      "Epoch 5/40\n",
      "60000/60000 [==============================] - 1s 23us/step - loss: 0.2376 - acc: 0.9310 - val_loss: 0.2242 - val_acc: 0.9347\n",
      "Epoch 6/40\n",
      "60000/60000 [==============================] - 1s 22us/step - loss: 0.2151 - acc: 0.9377 - val_loss: 0.2065 - val_acc: 0.9384\n",
      "Epoch 7/40\n",
      "60000/60000 [==============================] - 1s 22us/step - loss: 0.1952 - acc: 0.9430 - val_loss: 0.1905 - val_acc: 0.9444\n",
      "Epoch 8/40\n",
      "60000/60000 [==============================] - 1s 22us/step - loss: 0.1799 - acc: 0.9479 - val_loss: 0.1736 - val_acc: 0.9473\n",
      "Epoch 9/40\n",
      "60000/60000 [==============================] - 1s 21us/step - loss: 0.1635 - acc: 0.9532 - val_loss: 0.1617 - val_acc: 0.9516\n",
      "Epoch 10/40\n",
      "60000/60000 [==============================] - 1s 21us/step - loss: 0.1504 - acc: 0.9561 - val_loss: 0.1530 - val_acc: 0.9552\n",
      "Epoch 11/40\n",
      "60000/60000 [==============================] - 1s 21us/step - loss: 0.1378 - acc: 0.9598 - val_loss: 0.1419 - val_acc: 0.9568\n",
      "Epoch 12/40\n",
      "60000/60000 [==============================] - 1s 21us/step - loss: 0.1266 - acc: 0.9634 - val_loss: 0.1361 - val_acc: 0.9583\n",
      "Epoch 13/40\n",
      "60000/60000 [==============================] - 1s 21us/step - loss: 0.1182 - acc: 0.9655 - val_loss: 0.1254 - val_acc: 0.9621\n",
      "Epoch 14/40\n",
      "60000/60000 [==============================] - 1s 21us/step - loss: 0.1090 - acc: 0.9680 - val_loss: 0.1182 - val_acc: 0.9632\n",
      "Epoch 15/40\n",
      "60000/60000 [==============================] - 1s 21us/step - loss: 0.0994 - acc: 0.9711 - val_loss: 0.1140 - val_acc: 0.9645\n",
      "Epoch 16/40\n",
      "60000/60000 [==============================] - 1s 21us/step - loss: 0.0922 - acc: 0.9734 - val_loss: 0.1078 - val_acc: 0.9665\n",
      "Epoch 17/40\n",
      "60000/60000 [==============================] - 1s 21us/step - loss: 0.0849 - acc: 0.9753 - val_loss: 0.1019 - val_acc: 0.9688\n",
      "Epoch 18/40\n",
      "60000/60000 [==============================] - 1s 21us/step - loss: 0.0787 - acc: 0.9772 - val_loss: 0.0997 - val_acc: 0.9688\n",
      "Epoch 19/40\n",
      "60000/60000 [==============================] - 1s 21us/step - loss: 0.0718 - acc: 0.9793 - val_loss: 0.0946 - val_acc: 0.9706\n",
      "Epoch 20/40\n",
      "60000/60000 [==============================] - 1s 21us/step - loss: 0.0682 - acc: 0.9801 - val_loss: 0.0947 - val_acc: 0.9707\n",
      "Epoch 21/40\n",
      "60000/60000 [==============================] - 1s 21us/step - loss: 0.0631 - acc: 0.9817 - val_loss: 0.0885 - val_acc: 0.9734\n",
      "Epoch 22/40\n",
      "60000/60000 [==============================] - 1s 21us/step - loss: 0.0571 - acc: 0.9834 - val_loss: 0.0831 - val_acc: 0.9741\n",
      "Epoch 23/40\n",
      "60000/60000 [==============================] - 1s 21us/step - loss: 0.0522 - acc: 0.9852 - val_loss: 0.0822 - val_acc: 0.9754\n",
      "Epoch 24/40\n",
      "60000/60000 [==============================] - 1s 21us/step - loss: 0.0485 - acc: 0.9862 - val_loss: 0.0811 - val_acc: 0.9741\n",
      "Epoch 25/40\n",
      "60000/60000 [==============================] - 1s 21us/step - loss: 0.0446 - acc: 0.9873 - val_loss: 0.0811 - val_acc: 0.9749\n",
      "Epoch 26/40\n",
      "60000/60000 [==============================] - 1s 21us/step - loss: 0.0417 - acc: 0.9883 - val_loss: 0.0782 - val_acc: 0.9760\n",
      "Epoch 27/40\n",
      "60000/60000 [==============================] - 1s 21us/step - loss: 0.0378 - acc: 0.9893 - val_loss: 0.0773 - val_acc: 0.9755\n",
      "Epoch 28/40\n",
      "60000/60000 [==============================] - 1s 21us/step - loss: 0.0348 - acc: 0.9907 - val_loss: 0.0768 - val_acc: 0.9773\n",
      "Epoch 29/40\n",
      "60000/60000 [==============================] - 1s 21us/step - loss: 0.0311 - acc: 0.9921 - val_loss: 0.0747 - val_acc: 0.9776\n",
      "Epoch 30/40\n",
      "60000/60000 [==============================] - 1s 21us/step - loss: 0.0291 - acc: 0.9926 - val_loss: 0.0710 - val_acc: 0.9792\n",
      "Epoch 31/40\n",
      "60000/60000 [==============================] - 1s 21us/step - loss: 0.0269 - acc: 0.9935 - val_loss: 0.0716 - val_acc: 0.9785\n",
      "Epoch 32/40\n",
      "60000/60000 [==============================] - 1s 21us/step - loss: 0.0255 - acc: 0.9938 - val_loss: 0.0720 - val_acc: 0.9782\n",
      "Epoch 33/40\n",
      "60000/60000 [==============================] - 1s 21us/step - loss: 0.0237 - acc: 0.9942 - val_loss: 0.0737 - val_acc: 0.9780\n",
      "Epoch 34/40\n",
      "60000/60000 [==============================] - 1s 21us/step - loss: 0.0206 - acc: 0.9955 - val_loss: 0.0715 - val_acc: 0.9781\n",
      "Epoch 35/40\n",
      "60000/60000 [==============================] - 1s 21us/step - loss: 0.0189 - acc: 0.9960 - val_loss: 0.0694 - val_acc: 0.9785\n",
      "Epoch 36/40\n",
      "60000/60000 [==============================] - 1s 21us/step - loss: 0.0170 - acc: 0.9967 - val_loss: 0.0676 - val_acc: 0.9795\n",
      "Epoch 37/40\n",
      "60000/60000 [==============================] - 1s 21us/step - loss: 0.0156 - acc: 0.9969 - val_loss: 0.0671 - val_acc: 0.9799\n",
      "Epoch 38/40\n",
      "60000/60000 [==============================] - 1s 21us/step - loss: 0.0143 - acc: 0.9976 - val_loss: 0.0700 - val_acc: 0.9787\n",
      "Epoch 39/40\n",
      "60000/60000 [==============================] - 1s 21us/step - loss: 0.0136 - acc: 0.9976 - val_loss: 0.0700 - val_acc: 0.9800\n",
      "Epoch 40/40\n",
      "60000/60000 [==============================] - 1s 21us/step - loss: 0.0127 - acc: 0.9979 - val_loss: 0.0661 - val_acc: 0.9807\n",
      "CPU times: user 6min 43s, sys: 34 s, total: 7min 17s\n",
      "Wall time: 51.5 s\n"
     ]
    }
   ],
   "source": [
    "%%time\n",
    "\n",
    "history = model.fit(x_train, y_train,\n",
    "                    batch_size=batch_size,\n",
    "                    epochs=epochs,\n",
    "                    verbose=1,\n",
    "                    validation_data=(x_test, y_test))"
   ]
  },
  {
   "cell_type": "markdown",
   "metadata": {},
   "source": [
    "#### Section 1.6: Predict"
   ]
  },
  {
   "cell_type": "code",
   "execution_count": 6,
   "metadata": {},
   "outputs": [
    {
     "name": "stdout",
     "output_type": "stream",
     "text": [
      "Test loss: 0.06607306100567803\n",
      "Test accuracy: 0.9807\n"
     ]
    }
   ],
   "source": [
    "score = model.evaluate(x_test, y_test, verbose=0)\n",
    "print('Test loss:', score[0])\n",
    "print('Test accuracy:', score[1])"
   ]
  },
  {
   "cell_type": "markdown",
   "metadata": {},
   "source": [
    "## Partie 2: Tensorflow"
   ]
  },
  {
   "cell_type": "code",
   "execution_count": 7,
   "metadata": {},
   "outputs": [],
   "source": [
    "import tensorflow as tf\n",
    "import numpy as np\n",
    "import matplotlib.pyplot as plt\n",
    "from math import sin\n",
    "from IPython.core.display import Image, display\n",
    "\n",
    "def weight_variable(shape):\n",
    "    initial = tf.truncated_normal([int(shape[0]),shape[1]], stddev=0.1)\n",
    "    return tf.Variable(initial, dtype = tf.float32)\n",
    " \n",
    "# The constant value 0.1\n",
    "def bias_variable(shape):\n",
    "    initial = tf.constant(0.1, shape=shape)\n",
    "    return tf.Variable(initial, dtype = tf.float32)\n",
    "\n",
    "def MLP(x_b,tab_neurones, tab_activation, dropout = 1, name=\"MLP\"):\n",
    "    with tf.name_scope(name):\n",
    "        outs = []\n",
    "        for i in range(len(tab_neurones)):\n",
    "            if i == 0 :\n",
    "                input_nb_neurone = x_b.shape[1]\n",
    "                input_data = x_b\n",
    "            else:\n",
    "                input_nb_neurone = tab_neurones[i-1]\n",
    "                input_data = outs[i-1]\n",
    "            W = weight_variable([input_nb_neurone, tab_neurones[i]])\n",
    "            b = bias_variable([tab_neurones[i]])\n",
    "            if (tab_activation[i] == \"relu\"):\n",
    "                out = tf.nn.relu(tf.matmul(input_data, W) + b)\n",
    "            elif (tab_activation[i] == \"sigmoid\"):\n",
    "                out = tf.nn.sigmoid(tf.matmul(input_data, W) + b)\n",
    "            elif (tab_activation[i] == \"tanh\"):\n",
    "                out = tf.tanh(tf.matmul(input_data, W) + b)\n",
    "            elif (tab_activation[i] == \"softmax\"):\n",
    "                out = tf.nn.softmax(tf.matmul(input_data, W) + b)\n",
    "            else:\n",
    "                out = tf.matmul(input_data, W) + b\n",
    "            # gestion du dropout\n",
    "            if (dropout != 1) & (i != len(tab_neurones)-1):\n",
    "                out_drop = tf.nn.dropout(out, dropout)\n",
    "                outs.append(out_drop)\n",
    "            else:\n",
    "                outs.append(out)\n",
    "        return outs\n",
    "\n",
    "\n",
    "\n",
    "def Fit(x_train,x_test,y_train,y_test,model, verbose = 100):\n",
    "    sess = tf.InteractiveSession()\n",
    "    init_vars = tf.variables_initializer(tf.global_variables())\n",
    "    sess.run(init_vars)\n",
    "    visualisation = []\n",
    "    for epoch in range(epochs):\n",
    "        indices = np.random.choice(x_train.shape[0], size=batch_size)\n",
    "        x_b = x_train[indices]\n",
    "        y_b = y_train[indices]\n",
    "        feed_dict = {x_batch: x_b, y_batch: y_b}\n",
    "        sess.run(model, feed_dict=feed_dict)\n",
    "        if epoch%verbose ==0:\n",
    "            feed_dict_train = {x_batch: x_train, y_batch: y_train}\n",
    "            feed_dict_test = {x_batch: x_test, y_batch: y_test}\n",
    "            loss_train = sess.run(avg_llh, feed_dict=feed_dict_train)\n",
    "            loss_test = sess.run(avg_llh, feed_dict=feed_dict_test)\n",
    "            print(\"Epoch: \", epoch)\n",
    "            print(\"Loss train = \", loss_train)\n",
    "            print(\"Loss test = \", loss_test)\n",
    "            visualisation.append(np.array([epoch,loss_train,loss_test]))\n",
    "    return (sess,np.array(visualisation))\n",
    "\n",
    "    \n",
    "def ES(x_train,x_test,y_train,y_test,model,n = 100, p = 10, verbose = 500):\n",
    "    sess = tf.Session()\n",
    "    init_vars = tf.variables_initializer(tf.global_variables())\n",
    "    sess.run(init_vars)\n",
    "    saver = tf.train.Saver()\n",
    "    visualisation = []\n",
    "    j = 0\n",
    "    step = 0\n",
    "    best_loss = np.inf\n",
    "    while j < p:\n",
    "        # train n steps\n",
    "        for i in range(n):\n",
    "            indices = np.random.choice(x_train.shape[0], size=batch_size)\n",
    "            x_b = x_train[indices]\n",
    "            y_b = y_train[indices]\n",
    "            feed_dict = {x_batch: x_b, y_batch: y_b}\n",
    "            sess.run(model, feed_dict=feed_dict)\n",
    "            step = step+1\n",
    "        # compute en print actual score\n",
    "        feed_dict_train = {x_batch: x_train, y_batch: y_train}\n",
    "        feed_dict_test = {x_batch: x_test, y_batch: y_test}\n",
    "        loss_train = sess.run(avg_llh, feed_dict=feed_dict_train)\n",
    "        loss_test = sess.run(avg_llh, feed_dict=feed_dict_test)\n",
    "        print(\"Loss train = \", loss_train)\n",
    "        print(\"Loss test = \", loss_test)\n",
    "        visualisation.append(np.array([step,loss_train,loss_test]))\n",
    "        #compare loss\n",
    "        if loss_test < best_loss:\n",
    "            save_path = saver.save(sess, \"/tmp/best_model.ckpt\")\n",
    "            j = 0\n",
    "            best_loss = loss_test\n",
    "        else:\n",
    "            j = j+1\n",
    "    best_model = saver.restore(sess, \"/tmp/best_model.ckpt\")\n",
    "    return (sess,np.array(visualisation))\n",
    "\n",
    "def Predict(x_test,session):\n",
    "    feed_dict = {x_batch: x_test}\n",
    "    yh_vals = session.run((y_pred), feed_dict=feed_dict)\n",
    "    return yh_vals"
   ]
  },
  {
   "cell_type": "code",
   "execution_count": 8,
   "metadata": {},
   "outputs": [],
   "source": [
    "x_batch = tf.placeholder(shape=[None, 784], dtype=tf.float32, name='x_batch')\n",
    "y_batch = tf.placeholder(shape=[None, 10], dtype=tf.float32, name='y_batch')\n",
    "batch_size = 1000\n",
    "epochs = 2400\n",
    "\n",
    "mlp_mnist = MLP(x_batch,[512,512,10], ['sigmoid','sigmoid','identity'])\n",
    "\n",
    "# output layer\n",
    "y_pred = mlp_mnist[-1]\n",
    "\n",
    "# loss function\n",
    "loglikelihoods = tf.nn.softmax_cross_entropy_with_logits_v2(logits = y_pred, labels = y_batch)\n",
    "avg_llh = tf.reduce_mean(loglikelihoods)\n",
    "\n",
    "# optimizer\n",
    "opt = tf.train.AdamOptimizer(learning_rate=0.001)\n",
    "\n",
    "model_mnist = opt.minimize(avg_llh)"
   ]
  },
  {
   "cell_type": "code",
   "execution_count": 9,
   "metadata": {},
   "outputs": [
    {
     "name": "stdout",
     "output_type": "stream",
     "text": [
      "WARNING:tensorflow:From <timed exec>:3: read_data_sets (from tensorflow.contrib.learn.python.learn.datasets.mnist) is deprecated and will be removed in a future version.\n",
      "Instructions for updating:\n",
      "Please use alternatives such as official/mnist/dataset.py from tensorflow/models.\n",
      "WARNING:tensorflow:From /home/adeleruyelle/miniconda3/lib/python3.6/site-packages/tensorflow/contrib/learn/python/learn/datasets/mnist.py:260: maybe_download (from tensorflow.contrib.learn.python.learn.datasets.base) is deprecated and will be removed in a future version.\n",
      "Instructions for updating:\n",
      "Please write your own downloading logic.\n",
      "WARNING:tensorflow:From /home/adeleruyelle/miniconda3/lib/python3.6/site-packages/tensorflow/contrib/learn/python/learn/datasets/mnist.py:262: extract_images (from tensorflow.contrib.learn.python.learn.datasets.mnist) is deprecated and will be removed in a future version.\n",
      "Instructions for updating:\n",
      "Please use tf.data to implement this functionality.\n",
      "Extracting MNIST_data/train-images-idx3-ubyte.gz\n",
      "WARNING:tensorflow:From /home/adeleruyelle/miniconda3/lib/python3.6/site-packages/tensorflow/contrib/learn/python/learn/datasets/mnist.py:267: extract_labels (from tensorflow.contrib.learn.python.learn.datasets.mnist) is deprecated and will be removed in a future version.\n",
      "Instructions for updating:\n",
      "Please use tf.data to implement this functionality.\n",
      "Extracting MNIST_data/train-labels-idx1-ubyte.gz\n",
      "WARNING:tensorflow:From /home/adeleruyelle/miniconda3/lib/python3.6/site-packages/tensorflow/contrib/learn/python/learn/datasets/mnist.py:110: dense_to_one_hot (from tensorflow.contrib.learn.python.learn.datasets.mnist) is deprecated and will be removed in a future version.\n",
      "Instructions for updating:\n",
      "Please use tf.one_hot on tensors.\n",
      "Extracting MNIST_data/t10k-images-idx3-ubyte.gz\n",
      "Extracting MNIST_data/t10k-labels-idx1-ubyte.gz\n",
      "WARNING:tensorflow:From /home/adeleruyelle/miniconda3/lib/python3.6/site-packages/tensorflow/contrib/learn/python/learn/datasets/mnist.py:290: DataSet.__init__ (from tensorflow.contrib.learn.python.learn.datasets.mnist) is deprecated and will be removed in a future version.\n",
      "Instructions for updating:\n",
      "Please use alternatives such as official/mnist/dataset.py from tensorflow/models.\n",
      "Epoch:  0\n",
      "Loss train =  2.4836428\n",
      "Loss test =  2.476776\n",
      "Epoch:  100\n",
      "Loss train =  0.34998226\n",
      "Loss test =  0.34064135\n",
      "Epoch:  200\n",
      "Loss train =  0.2673925\n",
      "Loss test =  0.26632664\n",
      "Epoch:  300\n",
      "Loss train =  0.22653224\n",
      "Loss test =  0.2301376\n",
      "Epoch:  400\n",
      "Loss train =  0.19745883\n",
      "Loss test =  0.20344149\n",
      "Epoch:  500\n",
      "Loss train =  0.16623259\n",
      "Loss test =  0.17525132\n",
      "Epoch:  600\n",
      "Loss train =  0.14558333\n",
      "Loss test =  0.15733942\n",
      "Epoch:  700\n",
      "Loss train =  0.12513578\n",
      "Loss test =  0.14004758\n",
      "Epoch:  800\n",
      "Loss train =  0.10976398\n",
      "Loss test =  0.12574744\n",
      "Epoch:  900\n",
      "Loss train =  0.09488275\n",
      "Loss test =  0.11472783\n",
      "Epoch:  1000\n",
      "Loss train =  0.083298326\n",
      "Loss test =  0.10578065\n",
      "Epoch:  1100\n",
      "Loss train =  0.07395049\n",
      "Loss test =  0.10290984\n",
      "Epoch:  1200\n",
      "Loss train =  0.06597389\n",
      "Loss test =  0.09309349\n",
      "Epoch:  1300\n",
      "Loss train =  0.057572488\n",
      "Loss test =  0.091097236\n",
      "Epoch:  1400\n",
      "Loss train =  0.051320784\n",
      "Loss test =  0.087318495\n",
      "Epoch:  1500\n",
      "Loss train =  0.04534476\n",
      "Loss test =  0.08276704\n",
      "Epoch:  1600\n",
      "Loss train =  0.040438395\n",
      "Loss test =  0.08092047\n",
      "Epoch:  1700\n",
      "Loss train =  0.03345016\n",
      "Loss test =  0.0758128\n",
      "Epoch:  1800\n",
      "Loss train =  0.029049678\n",
      "Loss test =  0.07333482\n",
      "Epoch:  1900\n",
      "Loss train =  0.02693937\n",
      "Loss test =  0.0739965\n",
      "Epoch:  2000\n",
      "Loss train =  0.022714935\n",
      "Loss test =  0.07127838\n",
      "Epoch:  2100\n",
      "Loss train =  0.019272193\n",
      "Loss test =  0.06840311\n",
      "Epoch:  2200\n",
      "Loss train =  0.016533704\n",
      "Loss test =  0.06743535\n",
      "Epoch:  2300\n",
      "Loss train =  0.014673928\n",
      "Loss test =  0.06911919\n",
      "CPU times: user 9min 27s, sys: 29 s, total: 9min 56s\n",
      "Wall time: 1min 8s\n"
     ]
    }
   ],
   "source": [
    "%%time\n",
    "\n",
    "from tensorflow.examples.tutorials.mnist import input_data\n",
    "mnist = input_data.read_data_sets('MNIST_data', one_hot=True)\n",
    "\n",
    "# fit the model\n",
    "fit_mnist,visu = Fit(x_train,x_test,y_train,y_test,model_mnist)"
   ]
  },
  {
   "cell_type": "code",
   "execution_count": 10,
   "metadata": {},
   "outputs": [
    {
     "name": "stdout",
     "output_type": "stream",
     "text": [
      "0.9784\n"
     ]
    },
    {
     "data": {
      "image/png": "[encoded data removed]",
      "text/plain": [
       "<Figure size 432x288 with 1 Axes>"
      ]
     },
     "metadata": {
      "needs_background": "light"
     },
     "output_type": "display_data"
    }
   ],
   "source": [
    "result_mnist = Predict(x_test,fit_mnist)\n",
    "\n",
    "correct_prediction = np.equal(np.argmax(result_mnist, 1), np.argmax(y_test, 1))\n",
    "accuracy = np.mean(correct_prediction.astype(float))\n",
    "\n",
    "print(accuracy)\n",
    "\n",
    "# visualize error\n",
    "error = np.hsplit(visu,3)\n",
    "plt.plot(error[0],error[1], 'green', label='train')\n",
    "plt.plot(error[0],error[2], 'red',label='test')\n",
    "plt.axis(ymax=1,ymin = 0)\n",
    "plt.legend()\n",
    "plt.show()\n",
    "\n"
   ]
  },
  {
   "cell_type": "code",
   "execution_count": 11,
   "metadata": {},
   "outputs": [
    {
     "name": "stdout",
     "output_type": "stream",
     "text": [
      "Loss train =  0.35603192\n",
      "Loss test =  0.34459525\n",
      "Loss train =  0.2683796\n",
      "Loss test =  0.26538095\n",
      "Loss train =  0.22746848\n",
      "Loss test =  0.22933261\n",
      "Loss train =  0.19384153\n",
      "Loss test =  0.19916762\n",
      "Loss train =  0.16632041\n",
      "Loss test =  0.17503372\n",
      "Loss train =  0.1474772\n",
      "Loss test =  0.15813014\n",
      "Loss train =  0.12497632\n",
      "Loss test =  0.14027707\n",
      "Loss train =  0.109395795\n",
      "Loss test =  0.12591638\n",
      "Loss train =  0.09771788\n",
      "Loss test =  0.11574453\n",
      "Loss train =  0.08439167\n",
      "Loss test =  0.10772342\n",
      "Loss train =  0.0732444\n",
      "Loss test =  0.09890267\n",
      "Loss train =  0.065997615\n",
      "Loss test =  0.09440676\n",
      "Loss train =  0.057022538\n",
      "Loss test =  0.08998008\n",
      "Loss train =  0.049941063\n",
      "Loss test =  0.08333745\n",
      "Loss train =  0.044276644\n",
      "Loss test =  0.0808365\n",
      "Loss train =  0.039236646\n",
      "Loss test =  0.07785221\n",
      "Loss train =  0.033493046\n",
      "Loss test =  0.07388505\n",
      "Loss train =  0.03009493\n",
      "Loss test =  0.07198457\n",
      "Loss train =  0.024996582\n",
      "Loss test =  0.07064138\n",
      "Loss train =  0.024925109\n",
      "Loss test =  0.07256506\n",
      "Loss train =  0.019676777\n",
      "Loss test =  0.06854169\n",
      "Loss train =  0.017303316\n",
      "Loss test =  0.069487855\n",
      "Loss train =  0.015397636\n",
      "Loss test =  0.06674048\n",
      "Loss train =  0.013580783\n",
      "Loss test =  0.0683203\n",
      "Loss train =  0.011345935\n",
      "Loss test =  0.06719419\n",
      "Loss train =  0.010882493\n",
      "Loss test =  0.06845426\n",
      "Loss train =  0.008233018\n",
      "Loss test =  0.065234914\n",
      "Loss train =  0.007315812\n",
      "Loss test =  0.06626227\n",
      "Loss train =  0.0067438344\n",
      "Loss test =  0.0657263\n",
      "Loss train =  0.00567974\n",
      "Loss test =  0.066871874\n",
      "Loss train =  0.0053533\n",
      "Loss test =  0.06839529\n",
      "Loss train =  0.0043539936\n",
      "Loss test =  0.0671763\n",
      "Loss train =  0.003810531\n",
      "Loss test =  0.06747054\n",
      "Loss train =  0.0034463482\n",
      "Loss test =  0.06943452\n",
      "Loss train =  0.0033575504\n",
      "Loss test =  0.067766376\n",
      "Loss train =  0.002869832\n",
      "Loss test =  0.06819436\n",
      "Loss train =  0.002279924\n",
      "Loss test =  0.067959614\n",
      "INFO:tensorflow:Restoring parameters from /tmp/best_model.ckpt\n"
     ]
    }
   ],
   "source": [
    "# fit the model\n",
    "ES_fit_mnist,visu = ES(x_train,x_test,y_train,y_test,model_mnist)"
   ]
  },
  {
   "cell_type": "code",
   "execution_count": 12,
   "metadata": {},
   "outputs": [
    {
     "name": "stdout",
     "output_type": "stream",
     "text": [
      "0.9802\n"
     ]
    },
    {
     "data": {
      "image/png": "[encoded data removed]",
      "text/plain": [
       "<Figure size 432x288 with 1 Axes>"
      ]
     },
     "metadata": {
      "needs_background": "light"
     },
     "output_type": "display_data"
    }
   ],
   "source": [
    "result_mnist = Predict(x_test,ES_fit_mnist)\n",
    "\n",
    "correct_prediction = np.equal(np.argmax(result_mnist, 1), np.argmax(y_test, 1))\n",
    "accuracy = np.mean(correct_prediction.astype(float))\n",
    "\n",
    "print(accuracy)\n",
    "\n",
    "# visualize error\n",
    "error = np.hsplit(visu,3)\n",
    "plt.plot(error[0],error[1], 'green', label='train')\n",
    "plt.plot(error[0],error[2], 'red',label='test')\n",
    "#plt.axis(ymax=1,ymin = 0)\n",
    "plt.legend()\n",
    "plt.show()"
   ]
  },
  {
   "cell_type": "markdown",
   "metadata": {},
   "source": [
    "## Partie 3: PyTorch"
   ]
  },
  {
   "cell_type": "code",
   "execution_count": 13,
   "metadata": {},
   "outputs": [],
   "source": [
    "import torch\n",
    "import torchvision\n",
    "import torchvision.transforms as transforms"
   ]
  },
  {
   "cell_type": "code",
   "execution_count": 14,
   "metadata": {},
   "outputs": [],
   "source": [
    "transform = transforms.Compose(\n",
    "    [transforms.ToTensor(),\n",
    "     transforms.Normalize((0.5, 0.5, 0.5), (0.5, 0.5, 0.5))])\n",
    "\n",
    "trainset = torchvision.datasets.MNIST(root='./data', train=True,\n",
    "                                        download=True, transform=transform)\n",
    "trainloader = torch.utils.data.DataLoader(trainset, batch_size = 1000,\n",
    "                                          shuffle=True)\n",
    "\n",
    "testset = torchvision.datasets.MNIST(root='./data', train=False,\n",
    "                                       download=True, transform=transform)\n",
    "testloader = torch.utils.data.DataLoader(testset, batch_size=1000,\n",
    "                                         shuffle=False)\n",
    "\n",
    "classes = ('0', '1', '2', '3',\n",
    "           '4', '5', '6', '7', '8', '9')"
   ]
  },
  {
   "cell_type": "code",
   "execution_count": 15,
   "metadata": {},
   "outputs": [
    {
     "name": "stdout",
     "output_type": "stream",
     "text": [
      "torch.Size([1000, 1, 28, 28])\n",
      "    6     1     6     6     9     4     1     9\n"
     ]
    },
    {
     "data": {
      "image/png": "[encoded data removed]",
      "text/plain": [
       "<Figure size 432x288 with 1 Axes>"
      ]
     },
     "metadata": {
      "needs_background": "light"
     },
     "output_type": "display_data"
    }
   ],
   "source": [
    "import matplotlib.pyplot as plt\n",
    "import numpy as np\n",
    "\n",
    "# functions to show an image\n",
    "\n",
    "\n",
    "def imshow(img):\n",
    "    img = img / 2 + 0.5     # unnormalize\n",
    "    npimg = img.numpy()\n",
    "    plt.imshow(np.transpose(npimg, (1, 2, 0)))\n",
    "\n",
    "\n",
    "# get some random training images\n",
    "dataiter = iter(trainloader)\n",
    "images, labels = dataiter.next()\n",
    "\n",
    "print(images.shape)\n",
    "\n",
    "# show images\n",
    "imshow(torchvision.utils.make_grid(images[:8]))\n",
    "# print labels\n",
    "print(' '.join('%5s' % classes[labels[j]] for j in range(8)))"
   ]
  },
  {
   "cell_type": "code",
   "execution_count": 16,
   "metadata": {},
   "outputs": [],
   "source": [
    "import torch.nn as nn\n",
    "import torch.nn.functional as F\n",
    "\n",
    "\n",
    "class Net(nn.Module):\n",
    "    def __init__(self):\n",
    "        super(Net, self).__init__()\n",
    "        self.fc1 = nn.Linear(28*28, 512)\n",
    "#        self.fc1_drop = nn.Dropout(0.2)\n",
    "        self.fc2 = nn.Linear(512, 512)\n",
    "#        self.fc2_drop = nn.Dropout(0.2)\n",
    "        self.fc3 = nn.Linear(512, 10)\n",
    "\n",
    "    def forward(self, x):\n",
    "        x = x.view(-1, 28*28)\n",
    "        x = torch.sigmoid(self.fc1(x))\n",
    "#        x = self.fc1_drop(x)\n",
    "        x = torch.sigmoid(self.fc2(x))\n",
    "#        x = self.fc2_drop(x)\n",
    "        return F.log_softmax(self.fc3(x),dim = 1)\n",
    "\n",
    "\n",
    "net = Net()"
   ]
  },
  {
   "cell_type": "code",
   "execution_count": 17,
   "metadata": {},
   "outputs": [],
   "source": [
    "import torch.optim as optim\n",
    "\n",
    "criterion = nn.CrossEntropyLoss()\n",
    "optimizer = optim.Adam(net.parameters())\n"
   ]
  },
  {
   "cell_type": "code",
   "execution_count": 18,
   "metadata": {},
   "outputs": [
    {
     "name": "stdout",
     "output_type": "stream",
     "text": [
      "[1,    10] loss: 2.252\n",
      "[1,    20] loss: 1.883\n",
      "[1,    30] loss: 1.332\n",
      "[1,    40] loss: 0.903\n",
      "[1,    50] loss: 0.681\n",
      "[1,    60] loss: 0.535\n",
      "[2,    10] loss: 0.466\n",
      "[2,    20] loss: 0.410\n",
      "[2,    30] loss: 0.378\n",
      "[2,    40] loss: 0.352\n",
      "[2,    50] loss: 0.334\n",
      "[2,    60] loss: 0.325\n",
      "[3,    10] loss: 0.302\n",
      "[3,    20] loss: 0.295\n",
      "[3,    30] loss: 0.293\n",
      "[3,    40] loss: 0.278\n",
      "[3,    50] loss: 0.282\n",
      "[3,    60] loss: 0.259\n",
      "[4,    10] loss: 0.250\n",
      "[4,    20] loss: 0.250\n",
      "[4,    30] loss: 0.232\n",
      "[4,    40] loss: 0.241\n",
      "[4,    50] loss: 0.233\n",
      "[4,    60] loss: 0.216\n",
      "[5,    10] loss: 0.203\n",
      "[5,    20] loss: 0.201\n",
      "[5,    30] loss: 0.208\n",
      "[5,    40] loss: 0.186\n",
      "[5,    50] loss: 0.192\n",
      "[5,    60] loss: 0.195\n",
      "[6,    10] loss: 0.193\n",
      "[6,    20] loss: 0.173\n",
      "[6,    30] loss: 0.174\n",
      "[6,    40] loss: 0.168\n",
      "[6,    50] loss: 0.158\n",
      "[6,    60] loss: 0.144\n",
      "[7,    10] loss: 0.147\n",
      "[7,    20] loss: 0.150\n",
      "[7,    30] loss: 0.143\n",
      "[7,    40] loss: 0.142\n",
      "[7,    50] loss: 0.145\n",
      "[7,    60] loss: 0.139\n",
      "[8,    10] loss: 0.133\n",
      "[8,    20] loss: 0.140\n",
      "[8,    30] loss: 0.127\n",
      "[8,    40] loss: 0.125\n",
      "[8,    50] loss: 0.117\n",
      "[8,    60] loss: 0.118\n",
      "[9,    10] loss: 0.115\n",
      "[9,    20] loss: 0.113\n",
      "[9,    30] loss: 0.098\n",
      "[9,    40] loss: 0.115\n",
      "[9,    50] loss: 0.100\n",
      "[9,    60] loss: 0.110\n",
      "[10,    10] loss: 0.094\n",
      "[10,    20] loss: 0.099\n",
      "[10,    30] loss: 0.094\n",
      "[10,    40] loss: 0.096\n",
      "[10,    50] loss: 0.099\n",
      "[10,    60] loss: 0.091\n",
      "[11,    10] loss: 0.089\n",
      "[11,    20] loss: 0.087\n",
      "[11,    30] loss: 0.078\n",
      "[11,    40] loss: 0.088\n",
      "[11,    50] loss: 0.083\n",
      "[11,    60] loss: 0.086\n",
      "[12,    10] loss: 0.075\n",
      "[12,    20] loss: 0.078\n",
      "[12,    30] loss: 0.075\n",
      "[12,    40] loss: 0.069\n",
      "[12,    50] loss: 0.073\n",
      "[12,    60] loss: 0.075\n",
      "[13,    10] loss: 0.073\n",
      "[13,    20] loss: 0.074\n",
      "[13,    30] loss: 0.071\n",
      "[13,    40] loss: 0.064\n",
      "[13,    50] loss: 0.063\n",
      "[13,    60] loss: 0.060\n",
      "[14,    10] loss: 0.060\n",
      "[14,    20] loss: 0.064\n",
      "[14,    30] loss: 0.059\n",
      "[14,    40] loss: 0.055\n",
      "[14,    50] loss: 0.058\n",
      "[14,    60] loss: 0.060\n",
      "[15,    10] loss: 0.055\n",
      "[15,    20] loss: 0.050\n",
      "[15,    30] loss: 0.050\n",
      "[15,    40] loss: 0.053\n",
      "[15,    50] loss: 0.057\n",
      "[15,    60] loss: 0.053\n",
      "Finished Training\n",
      "CPU times: user 21min 25s, sys: 21.9 s, total: 21min 47s\n",
      "Wall time: 2min\n"
     ]
    }
   ],
   "source": [
    "%%time\n",
    "\n",
    "for epoch in range(15):  # loop over the dataset multiple times\n",
    "\n",
    "    running_loss = 0.0\n",
    "    for i, data in enumerate(trainloader, 0):\n",
    "        # get the inputs\n",
    "        inputs, labels = data\n",
    "\n",
    "        # zero the parameter gradients\n",
    "        optimizer.zero_grad()\n",
    "\n",
    "        # forward + backward + optimize\n",
    "        outputs = net(inputs)\n",
    "        loss = criterion(outputs, labels)\n",
    "        loss.backward()\n",
    "        optimizer.step()\n",
    "\n",
    "        # print statistics\n",
    "        running_loss += loss.item()\n",
    "        if i % 10 == 9:    # print every 2000 mini-batches\n",
    "            print('[%d, %5d] loss: %.3f' %\n",
    "                  (epoch + 1, i + 1, running_loss / 10))\n",
    "            running_loss = 0.0\n",
    "\n",
    "print('Finished Training')\n"
   ]
  },
  {
   "cell_type": "code",
   "execution_count": 19,
   "metadata": {},
   "outputs": [
    {
     "name": "stdout",
     "output_type": "stream",
     "text": [
      "GroundTruth:      7     2     1     0     4     1     4     9\n"
     ]
    },
    {
     "data": {
      "image/png": "[encoded data removed]",
      "text/plain": [
       "<Figure size 432x288 with 1 Axes>"
      ]
     },
     "metadata": {
      "needs_background": "light"
     },
     "output_type": "display_data"
    }
   ],
   "source": [
    "dataiter = iter(testloader)\n",
    "images, labels = dataiter.next()\n",
    "\n",
    "# print images\n",
    "imshow(torchvision.utils.make_grid(images[:8]))\n",
    "print('GroundTruth: ', ' '.join('%5s' % classes[labels[j]] for j in range(8)))\n"
   ]
  },
  {
   "cell_type": "code",
   "execution_count": 20,
   "metadata": {},
   "outputs": [],
   "source": [
    "outputs = net(images)"
   ]
  },
  {
   "cell_type": "code",
   "execution_count": 21,
   "metadata": {},
   "outputs": [
    {
     "name": "stdout",
     "output_type": "stream",
     "text": [
      "Predicted:      7     2     1     0     4     1     4     9\n"
     ]
    }
   ],
   "source": [
    "_, predicted = torch.max(outputs, 1)\n",
    "\n",
    "print('Predicted: ', ' '.join('%5s' % classes[predicted[j]]\n",
    "                              for j in range(8)))\n"
   ]
  },
  {
   "cell_type": "code",
   "execution_count": 22,
   "metadata": {},
   "outputs": [
    {
     "name": "stdout",
     "output_type": "stream",
     "text": [
      "Accuracy of the network on the 10000 test images: 97 %\n"
     ]
    }
   ],
   "source": [
    "correct = 0\n",
    "total = 0\n",
    "with torch.no_grad():\n",
    "    for data in testloader:\n",
    "        images, labels = data\n",
    "        outputs = net(images)\n",
    "        _, predicted = torch.max(outputs.data, 1)\n",
    "        total += labels.size(0)\n",
    "        correct += (predicted == labels).sum().item()\n",
    "\n",
    "print('Accuracy of the network on the 10000 test images: %d %%' % (\n",
    "    100 * correct / total))\n"
   ]
  },
  {
   "cell_type": "code",
   "execution_count": null,
   "metadata": {},
   "outputs": [],
   "source": []
  },
  {
   "cell_type": "code",
   "execution_count": null,
   "metadata": {},
   "outputs": [],
   "source": []
  }
 ],
 "metadata": {
  "kernelspec": {
   "display_name": "Python 3",
   "language": "python",
   "name": "python3"
  },
  "language_info": {
   "codemirror_mode": {
    "name": "ipython",
    "version": 3
   },
   "file_extension": ".py",
   "mimetype": "text/x-python",
   "name": "python",
   "nbconvert_exporter": "python",
   "pygments_lexer": "ipython3",
   "version": "3.6.6"
  }
 },
 "nbformat": 4,
 "nbformat_minor": 2
}
