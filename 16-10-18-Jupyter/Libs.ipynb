{
 "cells": [
  {
   "cell_type": "markdown",
   "metadata": {},
   "source": [
    "# Prise en main des bibliothèques de Machine Learning.\n",
    "\n",
    "<br/>\n",
    "\n",
    "##### Arnaud Deleruyelle : Doctorant SIGMA - BioComputing\n",
    "##### Encadrement: John Klein (SIGMA) - Cristian Versari (BioComputing)"
   ]
  },
  {
   "cell_type": "markdown",
   "metadata": {},
   "source": [
    "## Partie 1 : Keras"
   ]
  },
  {
   "cell_type": "markdown",
   "metadata": {},
   "source": [
    "### Section 1.1: Imports"
   ]
  },
  {
   "cell_type": "code",
   "execution_count": 1,
   "metadata": {},
   "outputs": [
    {
     "name": "stderr",
     "output_type": "stream",
     "text": [
      "Using TensorFlow backend.\n"
     ]
    }
   ],
   "source": [
    "from __future__ import print_function\n",
    "\n",
    "import keras\n",
    "from keras.datasets import mnist\n",
    "from keras.models import Sequential\n",
    "from keras.layers import Dense, Dropout\n",
    "from keras.optimizers import RMSprop"
   ]
  },
  {
   "cell_type": "markdown",
   "metadata": {},
   "source": [
    "### Section 1.2: Data"
   ]
  },
  {
   "cell_type": "code",
   "execution_count": 2,
   "metadata": {},
   "outputs": [],
   "source": [
    "num_classes = 10\n",
    "\n",
    "(x_train, y_train), (x_test, y_test) = mnist.load_data()\n",
    "\n",
    "x_train = x_train.reshape(60000, 784)\n",
    "x_test = x_test.reshape(10000, 784)\n",
    "x_train = x_train.astype('float32')\n",
    "x_test = x_test.astype('float32')\n",
    "x_train /= 255\n",
    "x_test /= 255\n",
    "y_train = keras.utils.to_categorical(y_train, num_classes)\n",
    "y_test = keras.utils.to_categorical(y_test, num_classes)"
   ]
  },
  {
   "cell_type": "markdown",
   "metadata": {},
   "source": [
    "### Section 1.3: Variables Globales"
   ]
  },
  {
   "cell_type": "code",
   "execution_count": 3,
   "metadata": {},
   "outputs": [],
   "source": [
    "batch_size = 1000\n",
    "epochs = 40"
   ]
  },
  {
   "cell_type": "markdown",
   "metadata": {},
   "source": [
    "### Section 1.4: Model"
   ]
  },
  {
   "cell_type": "code",
   "execution_count": 7,
   "metadata": {},
   "outputs": [
    {
     "name": "stdout",
     "output_type": "stream",
     "text": [
      "_________________________________________________________________\n",
      "Layer (type)                 Output Shape              Param #   \n",
      "=================================================================\n",
      "dense_4 (Dense)              (None, 512)               401920    \n",
      "_________________________________________________________________\n",
      "dense_5 (Dense)              (None, 512)               262656    \n",
      "_________________________________________________________________\n",
      "dense_6 (Dense)              (None, 10)                5130      \n",
      "=================================================================\n",
      "Total params: 669,706\n",
      "Trainable params: 669,706\n",
      "Non-trainable params: 0\n",
      "_________________________________________________________________\n"
     ]
    }
   ],
   "source": [
    "model = Sequential()\n",
    "model.add(Dense(512, activation='sigmoid', input_shape=(784,)))\n",
    "#model.add(Dropout(0.2))\n",
    "model.add(Dense(512, activation='sigmoid'))\n",
    "#model.add(Dropout(0.2))\n",
    "model.add(Dense(num_classes, activation='softmax'))\n",
    "\n",
    "model.compile(loss='categorical_crossentropy',\n",
    "              optimizer=RMSprop(),\n",
    "              metrics=['accuracy'])\n",
    "\n",
    "\n",
    "model.summary()\n",
    "\n"
   ]
  },
  {
   "cell_type": "markdown",
   "metadata": {},
   "source": [
    "### Section 1.5: Fit"
   ]
  },
  {
   "cell_type": "code",
   "execution_count": 5,
   "metadata": {},
   "outputs": [
    {
     "name": "stdout",
     "output_type": "stream",
     "text": [
      "Train on 60000 samples, validate on 10000 samples\n",
      "Epoch 1/40\n",
      "60000/60000 [==============================] - 2s 32us/step - loss: 1.3211 - acc: 0.5927 - val_loss: 0.6573 - val_acc: 0.7766\n",
      "Epoch 2/40\n",
      "60000/60000 [==============================] - 2s 29us/step - loss: 0.5014 - acc: 0.8477 - val_loss: 0.3632 - val_acc: 0.8963\n",
      "Epoch 3/40\n",
      "60000/60000 [==============================] - 2s 34us/step - loss: 0.3605 - acc: 0.8912 - val_loss: 0.2933 - val_acc: 0.9133\n",
      "Epoch 4/40\n",
      "60000/60000 [==============================] - 2s 26us/step - loss: 0.3117 - acc: 0.9052 - val_loss: 0.2737 - val_acc: 0.9153\n",
      "Epoch 5/40\n",
      "60000/60000 [==============================] - 2s 33us/step - loss: 0.2764 - acc: 0.9166 - val_loss: 0.2353 - val_acc: 0.9293\n",
      "Epoch 6/40\n",
      "60000/60000 [==============================] - 2s 29us/step - loss: 0.2461 - acc: 0.9251 - val_loss: 0.2047 - val_acc: 0.9378\n",
      "Epoch 7/40\n",
      "60000/60000 [==============================] - 2s 26us/step - loss: 0.2175 - acc: 0.9347 - val_loss: 0.1868 - val_acc: 0.9419\n",
      "Epoch 8/40\n",
      "60000/60000 [==============================] - 2s 26us/step - loss: 0.1984 - acc: 0.9392 - val_loss: 0.1708 - val_acc: 0.9467\n",
      "Epoch 9/40\n",
      "60000/60000 [==============================] - 2s 26us/step - loss: 0.1778 - acc: 0.9471 - val_loss: 0.1540 - val_acc: 0.9525\n",
      "Epoch 10/40\n",
      "60000/60000 [==============================] - 2s 27us/step - loss: 0.1624 - acc: 0.9505 - val_loss: 0.1436 - val_acc: 0.9548\n",
      "Epoch 11/40\n",
      "60000/60000 [==============================] - 2s 27us/step - loss: 0.1469 - acc: 0.9555 - val_loss: 0.1393 - val_acc: 0.9575\n",
      "Epoch 12/40\n",
      "60000/60000 [==============================] - 2s 27us/step - loss: 0.1352 - acc: 0.9596 - val_loss: 0.1221 - val_acc: 0.9612\n",
      "Epoch 13/40\n",
      "60000/60000 [==============================] - 2s 26us/step - loss: 0.1259 - acc: 0.9613 - val_loss: 0.1123 - val_acc: 0.9659\n",
      "Epoch 14/40\n",
      "60000/60000 [==============================] - 1s 24us/step - loss: 0.1172 - acc: 0.9639 - val_loss: 0.1057 - val_acc: 0.9667\n",
      "Epoch 15/40\n",
      "60000/60000 [==============================] - 1s 25us/step - loss: 0.1070 - acc: 0.9673 - val_loss: 0.0989 - val_acc: 0.9695\n",
      "Epoch 16/40\n",
      "60000/60000 [==============================] - 2s 27us/step - loss: 0.1002 - acc: 0.9695 - val_loss: 0.0975 - val_acc: 0.9695\n",
      "Epoch 17/40\n",
      "60000/60000 [==============================] - 2s 25us/step - loss: 0.0932 - acc: 0.9716 - val_loss: 0.0931 - val_acc: 0.9713\n",
      "Epoch 18/40\n",
      "60000/60000 [==============================] - 1s 25us/step - loss: 0.0880 - acc: 0.9727 - val_loss: 0.0917 - val_acc: 0.9720\n",
      "Epoch 19/40\n",
      "60000/60000 [==============================] - 2s 28us/step - loss: 0.0802 - acc: 0.9749 - val_loss: 0.0865 - val_acc: 0.9734\n",
      "Epoch 20/40\n",
      "60000/60000 [==============================] - 2s 32us/step - loss: 0.0760 - acc: 0.9761 - val_loss: 0.0796 - val_acc: 0.9749\n",
      "Epoch 21/40\n",
      "60000/60000 [==============================] - 2s 29us/step - loss: 0.0721 - acc: 0.9777 - val_loss: 0.0788 - val_acc: 0.9749\n",
      "Epoch 22/40\n",
      "60000/60000 [==============================] - 2s 25us/step - loss: 0.0669 - acc: 0.9792 - val_loss: 0.0814 - val_acc: 0.9755\n",
      "Epoch 23/40\n",
      "60000/60000 [==============================] - 1s 24us/step - loss: 0.0626 - acc: 0.9800 - val_loss: 0.0766 - val_acc: 0.9763\n",
      "Epoch 24/40\n",
      "60000/60000 [==============================] - 2s 28us/step - loss: 0.0611 - acc: 0.9807 - val_loss: 0.0752 - val_acc: 0.9769\n",
      "Epoch 25/40\n",
      "60000/60000 [==============================] - 2s 26us/step - loss: 0.0563 - acc: 0.9823 - val_loss: 0.0818 - val_acc: 0.9746\n",
      "Epoch 26/40\n",
      "60000/60000 [==============================] - 2s 29us/step - loss: 0.0524 - acc: 0.9836 - val_loss: 0.0673 - val_acc: 0.9796\n",
      "Epoch 27/40\n",
      "60000/60000 [==============================] - 2s 29us/step - loss: 0.0509 - acc: 0.9838 - val_loss: 0.0717 - val_acc: 0.9775\n",
      "Epoch 28/40\n",
      "60000/60000 [==============================] - 2s 27us/step - loss: 0.0483 - acc: 0.9843 - val_loss: 0.0679 - val_acc: 0.9793\n",
      "Epoch 29/40\n",
      "60000/60000 [==============================] - 2s 27us/step - loss: 0.0447 - acc: 0.9858 - val_loss: 0.0674 - val_acc: 0.9797\n",
      "Epoch 30/40\n",
      "60000/60000 [==============================] - 2s 28us/step - loss: 0.0430 - acc: 0.9862 - val_loss: 0.0668 - val_acc: 0.9792\n",
      "Epoch 31/40\n",
      "60000/60000 [==============================] - 2s 29us/step - loss: 0.0424 - acc: 0.9862 - val_loss: 0.0667 - val_acc: 0.9794\n",
      "Epoch 32/40\n",
      "60000/60000 [==============================] - 2s 27us/step - loss: 0.0375 - acc: 0.9882 - val_loss: 0.0638 - val_acc: 0.9807\n",
      "Epoch 33/40\n",
      "60000/60000 [==============================] - 2s 26us/step - loss: 0.0374 - acc: 0.9884 - val_loss: 0.0646 - val_acc: 0.9803\n",
      "Epoch 34/40\n",
      "60000/60000 [==============================] - 2s 29us/step - loss: 0.0354 - acc: 0.9885 - val_loss: 0.0638 - val_acc: 0.9814\n",
      "Epoch 35/40\n",
      "60000/60000 [==============================] - 2s 29us/step - loss: 0.0330 - acc: 0.9892 - val_loss: 0.0633 - val_acc: 0.9817\n",
      "Epoch 36/40\n",
      "60000/60000 [==============================] - 1s 25us/step - loss: 0.0315 - acc: 0.9901 - val_loss: 0.0645 - val_acc: 0.9819\n",
      "Epoch 37/40\n",
      "60000/60000 [==============================] - 1s 24us/step - loss: 0.0306 - acc: 0.9902 - val_loss: 0.0631 - val_acc: 0.9818\n",
      "Epoch 38/40\n",
      "60000/60000 [==============================] - 2s 27us/step - loss: 0.0285 - acc: 0.9907 - val_loss: 0.0649 - val_acc: 0.9810\n",
      "Epoch 39/40\n",
      "60000/60000 [==============================] - 2s 28us/step - loss: 0.0280 - acc: 0.9908 - val_loss: 0.0630 - val_acc: 0.9816\n",
      "Epoch 40/40\n",
      "60000/60000 [==============================] - 2s 30us/step - loss: 0.0250 - acc: 0.9918 - val_loss: 0.0616 - val_acc: 0.9830\n"
     ]
    }
   ],
   "source": [
    "history = model.fit(x_train, y_train,\n",
    "                    batch_size=batch_size,\n",
    "                    epochs=epochs,\n",
    "                    verbose=1,\n",
    "                    validation_data=(x_test, y_test))"
   ]
  },
  {
   "cell_type": "markdown",
   "metadata": {},
   "source": [
    "#### Section 1.6: Predict"
   ]
  },
  {
   "cell_type": "code",
   "execution_count": 6,
   "metadata": {},
   "outputs": [
    {
     "name": "stdout",
     "output_type": "stream",
     "text": [
      "Test loss: 0.0616216894178302\n",
      "Test accuracy: 0.983\n"
     ]
    }
   ],
   "source": [
    "score = model.evaluate(x_test, y_test, verbose=0)\n",
    "print('Test loss:', score[0])\n",
    "print('Test accuracy:', score[1])"
   ]
  },
  {
   "cell_type": "code",
   "execution_count": null,
   "metadata": {},
   "outputs": [],
   "source": []
  },
  {
   "cell_type": "code",
   "execution_count": null,
   "metadata": {},
   "outputs": [],
   "source": []
  },
  {
   "cell_type": "code",
   "execution_count": null,
   "metadata": {},
   "outputs": [],
   "source": []
  },
  {
   "cell_type": "code",
   "execution_count": null,
   "metadata": {},
   "outputs": [],
   "source": []
  },
  {
   "cell_type": "code",
   "execution_count": null,
   "metadata": {},
   "outputs": [],
   "source": []
  },
  {
   "cell_type": "code",
   "execution_count": null,
   "metadata": {},
   "outputs": [],
   "source": []
  }
 ],
 "metadata": {
  "kernelspec": {
   "display_name": "Python 3",
   "language": "python",
   "name": "python3"
  },
  "language_info": {
   "codemirror_mode": {
    "name": "ipython",
    "version": 3
   },
   "file_extension": ".py",
   "mimetype": "text/x-python",
   "name": "python",
   "nbconvert_exporter": "python",
   "pygments_lexer": "ipython3",
   "version": "3.5.2"
  }
 },
 "nbformat": 4,
 "nbformat_minor": 2
}
