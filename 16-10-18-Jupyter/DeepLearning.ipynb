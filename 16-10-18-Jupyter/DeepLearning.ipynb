{
 "cells": [
  {
   "cell_type": "markdown",
   "metadata": {},
   "source": [
    "# Prise en main des concepts du Deep Learning\n",
    "\n",
    "<br/>\n",
    "\n",
    "##### Arnaud Deleruyelle : Doctorant SIGMA - BioComputing\n",
    "##### Encadrement: John Klein (SIGMA) - Cristian Versari (BioComputing)"
   ]
  },
  {
   "cell_type": "markdown",
   "metadata": {},
   "source": [
    "## Partie 1 : Initialisation du code"
   ]
  },
  {
   "cell_type": "markdown",
   "metadata": {},
   "source": [
    "Nous allons traiter ce travail à l'aide de la bibliothèque Tensorflow de Google. \n",
    "Cette partie va se consacrer à la gestion des imports, la création des données etc..."
   ]
  },
  {
   "cell_type": "markdown",
   "metadata": {},
   "source": [
    "### Section 1.1: Imports"
   ]
  },
  {
   "cell_type": "code",
   "execution_count": 1,
   "metadata": {},
   "outputs": [],
   "source": [
    "import tensorflow as tf\n",
    "import numpy as np\n",
    "import matplotlib.pyplot as plt\n",
    "from math import sin"
   ]
  },
  {
   "cell_type": "markdown",
   "metadata": {},
   "source": [
    "### Section 1.2: Création d'un dataset artificiel"
   ]
  },
  {
   "cell_type": "code",
   "execution_count": 2,
   "metadata": {
    "scrolled": true
   },
   "outputs": [
    {
     "data": {
      "image/png": "[encoded data removed]",
      "text/plain": [
       "<Figure size 432x288 with 1 Axes>"
      ]
     },
     "metadata": {
      "needs_background": "light"
     },
     "output_type": "display_data"
    }
   ],
   "source": [
    "# dataset\n",
    "\n",
    "def f(x): return sin(2*x) + 3\n",
    "x_vals = np.arange(0, 10, 0.02)\n",
    "y_vals = np.array([f(x) + np.random.normal(0, 0.1) for x in x_vals])\n",
    "\n",
    "plt.plot(x_vals,y_vals, 'green')\n",
    "plt.show()\n"
   ]
  },
  {
   "cell_type": "markdown",
   "metadata": {},
   "source": [
    "### Section 1.3: Variables Globales"
   ]
  },
  {
   "cell_type": "code",
   "execution_count": 3,
   "metadata": {},
   "outputs": [],
   "source": [
    "epochs = 10000\n",
    "batch_size = 100\n",
    "\n",
    "x = tf.placeholder(shape=[None, 1], dtype=tf.float64, name='x')\n",
    "y = tf.placeholder(shape=[None, 1], dtype=tf.float64, name='y')"
   ]
  },
  {
   "cell_type": "markdown",
   "metadata": {},
   "source": [
    "### Section 1.4: Fit"
   ]
  },
  {
   "cell_type": "code",
   "execution_count": 4,
   "metadata": {},
   "outputs": [],
   "source": [
    "def Fit(x_vals,y_vals,model):\n",
    "    sess = tf.Session()\n",
    "    init_vars = tf.variables_initializer(tf.global_variables())\n",
    "    sess.run(init_vars)\n",
    "    for epoch in range(epochs):\n",
    "        indices = np.random.choice(x_vals.shape[0], size=batch_size)\n",
    "        x_batch = x_vals[indices].reshape((-1,1))\n",
    "        x_batch = np.hstack([x_batch])\n",
    "        y_batch = y_vals[indices].reshape((-1,1))\n",
    "        feed_dict = {x: x_batch, y: y_batch}\n",
    "        sess.run(model, feed_dict=feed_dict)\n",
    "        if epoch%200==0:\n",
    "            print(\"Loss = \", sess.run(avg_llh, feed_dict=feed_dict))\n",
    "    return sess"
   ]
  },
  {
   "cell_type": "markdown",
   "metadata": {},
   "source": [
    "### Section 1.5: Predict"
   ]
  },
  {
   "cell_type": "code",
   "execution_count": 5,
   "metadata": {},
   "outputs": [],
   "source": [
    "def Predict(x_vals,session):\n",
    "    x_batch = np.hstack([x_vals.reshape((-1,1))])\n",
    "    feed_dict = {x: x_batch}\n",
    "    yh_vals = session.run((y_pred), feed_dict=feed_dict)\n",
    "    return yh_vals\n",
    "\n",
    "    "
   ]
  },
  {
   "cell_type": "markdown",
   "metadata": {},
   "source": [
    "### Section 1.6: Test d'un modèle"
   ]
  },
  {
   "cell_type": "code",
   "execution_count": 6,
   "metadata": {},
   "outputs": [],
   "source": [
    "# first layer\n",
    "A1 = tf.Variable(np.random.rand(1,8), dtype=tf.float64)\n",
    "b1 = tf.Variable(np.random.rand(8), dtype=tf.float64)\n",
    "l1_out = tf.tanh(tf.matmul(x, A1) + b1)\n",
    "\n",
    "# second layer\n",
    "A2 = tf.Variable(np.random.rand(8,8), dtype=tf.float64)\n",
    "b2 = tf.Variable(np.random.rand(8), dtype=tf.float64)\n",
    "l2_out = tf.tanh(tf.matmul(l1_out, A2) + b2)\n",
    "\n",
    "# third layer\n",
    "A3 = tf.Variable(np.random.rand(8,1), dtype=tf.float64)\n",
    "b3 = tf.Variable(np.random.rand(1), dtype=tf.float64)\n",
    "l3_out = tf.matmul(l2_out, A3) + b3\n",
    "\n",
    "# output layer\n",
    "y_pred = l3_out\n",
    "\n",
    "# loss function\n",
    "loglikelihoods = tf.square(y_pred - y)\n",
    "avg_llh = tf.reduce_mean(loglikelihoods)\n",
    "\n",
    "# optimizer\n",
    "opt = tf.train.AdamOptimizer(learning_rate=0.01)\n",
    "model = opt.minimize(avg_llh)"
   ]
  },
  {
   "cell_type": "code",
   "execution_count": 7,
   "metadata": {},
   "outputs": [
    {
     "name": "stdout",
     "output_type": "stream",
     "text": [
      "Loss =  3.2858845659807634\n",
      "Loss =  0.48736619000718995\n",
      "Loss =  0.5057133397154093\n",
      "Loss =  0.3833023637269731\n",
      "Loss =  0.46178652404505516\n",
      "Loss =  0.2794480972152611\n",
      "Loss =  0.3533163978412312\n",
      "Loss =  0.29659781501788773\n",
      "Loss =  0.23502336114983902\n",
      "Loss =  0.2509990050978207\n",
      "Loss =  0.21683572054603112\n",
      "Loss =  0.2463316928163298\n",
      "Loss =  0.18872614959601777\n",
      "Loss =  0.21265983462046859\n",
      "Loss =  0.09350400329154195\n",
      "Loss =  0.09329510453905687\n",
      "Loss =  0.06551397728986347\n",
      "Loss =  0.044186720573963\n",
      "Loss =  0.08139002772663458\n",
      "Loss =  0.09101429134483591\n",
      "Loss =  0.07854123150506004\n",
      "Loss =  0.0469004475522622\n",
      "Loss =  0.05492361592287672\n",
      "Loss =  0.06724610306020697\n",
      "Loss =  0.05945011409510454\n",
      "Loss =  0.018275069711176907\n",
      "Loss =  0.013043702463099414\n",
      "Loss =  0.011271144500352175\n",
      "Loss =  0.010477188344746091\n",
      "Loss =  0.008460161779707055\n",
      "Loss =  0.018329806747740148\n",
      "Loss =  0.007511068201972432\n",
      "Loss =  0.009981093395985258\n",
      "Loss =  0.009632501966030717\n",
      "Loss =  0.01228456920033561\n",
      "Loss =  0.011080712792605758\n",
      "Loss =  0.009049222944462629\n",
      "Loss =  0.009486768032647664\n",
      "Loss =  0.01166102047275252\n",
      "Loss =  0.009446652835616479\n",
      "Loss =  0.010929760696795077\n",
      "Loss =  0.009617450608329055\n",
      "Loss =  0.013487139725863174\n",
      "Loss =  0.009975857186216172\n",
      "Loss =  0.009090335053174888\n",
      "Loss =  0.010530150457708033\n",
      "Loss =  0.010439856107576249\n",
      "Loss =  0.009487539104659303\n",
      "Loss =  0.011220181227084333\n",
      "Loss =  0.011360394304907684\n"
     ]
    }
   ],
   "source": [
    "# fit the model\n",
    "modelFit = Fit(x_vals,y_vals,model)"
   ]
  },
  {
   "cell_type": "code",
   "execution_count": 8,
   "metadata": {},
   "outputs": [
    {
     "data": {
      "image/png": "[encoded data removed]",
      "text/plain": [
       "<Figure size 432x288 with 1 Axes>"
      ]
     },
     "metadata": {
      "needs_background": "light"
     },
     "output_type": "display_data"
    }
   ],
   "source": [
    "# predict \n",
    "modelPredict = Predict(x_vals,modelFit)\n",
    "\n",
    "plt.plot(x_vals,y_vals, 'green')\n",
    "plt.plot(x_vals,modelPredict, 'red')\n",
    "plt.show()"
   ]
  },
  {
   "cell_type": "markdown",
   "metadata": {},
   "source": [
    "## Partie 2: Utilisation des différentes fonctions d'activation."
   ]
  },
  {
   "cell_type": "markdown",
   "metadata": {},
   "source": [
    "Dans cette partie, nous allons étudier les 4 fonctions d'activation (Relu, sigmoide, tanh, identité).\n",
    "Pour ce faire, nous avons choisi un optimiseur (SGD avec momentum) de manière à ne changer que la couche d'activation."
   ]
  },
  {
   "cell_type": "code",
   "execution_count": null,
   "metadata": {},
   "outputs": [],
   "source": []
  },
  {
   "cell_type": "code",
   "execution_count": null,
   "metadata": {},
   "outputs": [],
   "source": []
  },
  {
   "cell_type": "code",
   "execution_count": null,
   "metadata": {},
   "outputs": [],
   "source": []
  },
  {
   "cell_type": "code",
   "execution_count": null,
   "metadata": {},
   "outputs": [],
   "source": []
  },
  {
   "cell_type": "code",
   "execution_count": null,
   "metadata": {},
   "outputs": [],
   "source": []
  },
  {
   "cell_type": "code",
   "execution_count": null,
   "metadata": {},
   "outputs": [],
   "source": []
  }
 ],
 "metadata": {
  "kernelspec": {
   "display_name": "Python 3",
   "language": "python",
   "name": "python3"
  },
  "language_info": {
   "codemirror_mode": {
    "name": "ipython",
    "version": 3
   },
   "file_extension": ".py",
   "mimetype": "text/x-python",
   "name": "python",
   "nbconvert_exporter": "python",
   "pygments_lexer": "ipython3",
   "version": "3.5.2"
  }
 },
 "nbformat": 4,
 "nbformat_minor": 2
}
